{
 "cells": [
  {
   "cell_type": "code",
   "execution_count": 1,
   "id": "57024cd1-2ea4-4e02-897e-1949f5bdcbe5",
   "metadata": {},
   "outputs": [],
   "source": [
    "from random import random\n",
    "\n",
    "MAGAZINE_CAP = 12\n",
    "A = 8\n",
    "B = 6\n",
    "C = 4\n",
    "\n",
    "VERBOSE = False\n",
    "\n",
    "def log(s):\n",
    "    if VERBOSE:\n",
    "        print(s)"
   ]
  },
  {
   "cell_type": "code",
   "execution_count": 2,
   "id": "3653961a-6476-4901-8eda-e0c0161b48c3",
   "metadata": {},
   "outputs": [],
   "source": [
    "class Player:\n",
    "    def __init__(self, name, bullets, alive=True):\n",
    "        self.name = name\n",
    "        self.bullets = bullets\n",
    "        self.alive = alive\n",
    "        self.score = 0\n",
    "        \n",
    "    def lethal_rate(self):\n",
    "        return self.bullets / MAGAZINE_CAP\n",
    "        \n",
    "    def triggered(self):\n",
    "        r = random()\n",
    "        return r <= self.lethal_rate()\n",
    "        \n",
    "    def __repr__(self):\n",
    "        return f\"{self.name}({self.bullets})\"\n",
    "        \n",
    "    def __str__(self):\n",
    "        return self.__repr__()"
   ]
  },
  {
   "cell_type": "code",
   "execution_count": 3,
   "id": "1db9bd1e-4801-474a-8978-3a80a2795996",
   "metadata": {},
   "outputs": [],
   "source": [
    "class Game:\n",
    "    def __init__(self):\n",
    "        self.players = []\n",
    "        self.players_alive = []\n",
    "        self.winner = None\n",
    "        \n",
    "    def add(self, p):\n",
    "        self.players.append(p)\n",
    "        self.players_alive.append(p)\n",
    "        \n",
    "    def shoot(self, a, b):\n",
    "        if a.triggered():\n",
    "            log(f\"{a} shoots and kills {b}\")\n",
    "            a.bullets -= 1\n",
    "            b.alive = False\n",
    "            self.players_alive.remove(b)\n",
    "        else:\n",
    "            log(f\"{a} shoots {b} but not triggered\")            \n",
    "            \n",
    "    def pick(self, shooter, players):\n",
    "        target = None\n",
    "        for player in players:\n",
    "            if player == shooter:\n",
    "                continue\n",
    "            if not target or target.lethal_rate() < player.lethal_rate():\n",
    "                target = player\n",
    "        return target\n",
    "            \n",
    "    def run(self):\n",
    "        while len(self.players_alive) > 1:\n",
    "            players = self.players_alive\n",
    "            for player in players:\n",
    "                target = self.pick(player, players)\n",
    "                if target:\n",
    "                    self.shoot(player, target)\n",
    "                else:\n",
    "                    log(f\"No target for {player}, game over.\")\n",
    "                    break\n",
    "\n",
    "        self.winner = self.players_alive[0]\n",
    "        log(f\"The winner is {self.winner}\")\n",
    "        for player in self.players:\n",
    "            if self.winner == player:\n",
    "                player.score += 1\n",
    "                break"
   ]
  },
  {
   "cell_type": "code",
   "execution_count": 17,
   "id": "ef62cb0b-77b8-460b-aaf5-7309b389586c",
   "metadata": {},
   "outputs": [
    {
     "name": "stdout",
     "output_type": "stream",
     "text": [
      "Winning Board: Jie(8) - 4096, Rory(6) - 1776, Max(4) - 4128\n"
     ]
    }
   ],
   "source": [
    "count = 10000\n",
    "\n",
    "a = Player('Jun', A)\n",
    "b = Player('Rory', B)\n",
    "c = Player('Max', C)\n",
    "\n",
    "def reload():\n",
    "    a.bullets = A\n",
    "    b.bullets = B\n",
    "    c.bullets = C\n",
    "\n",
    "while count > 0:\n",
    "    g = Game()\n",
    "    reload()\n",
    "    g.add(a)\n",
    "    g.add(b)\n",
    "    g.add(c)\n",
    "    log(f\"Simulation #{101-count}: {[f'{x}' for x in g.players]}\")\n",
    "    g.run()\n",
    "    count -= 1\n",
    "    \n",
    "reload()\n",
    "print(f\"Winning Board: {a} - {a.score}, {b} - {b.score}, {c} - {c.score}\")"
   ]
  },
  {
   "cell_type": "code",
   "execution_count": null,
   "id": "8c6cbb38-af3a-4b4c-ba2d-2f83266c18fe",
   "metadata": {},
   "outputs": [],
   "source": []
  }
 ],
 "metadata": {
  "kernelspec": {
   "display_name": "Python 3 (WoP)",
   "language": "python",
   "name": "python3learn"
  },
  "language_info": {
   "codemirror_mode": {
    "name": "ipython",
    "version": 3
   },
   "file_extension": ".py",
   "mimetype": "text/x-python",
   "name": "python",
   "nbconvert_exporter": "python",
   "pygments_lexer": "ipython3",
   "version": "3.7.10"
  }
 },
 "nbformat": 4,
 "nbformat_minor": 5
}
